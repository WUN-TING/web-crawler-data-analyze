{
  "nbformat": 4,
  "nbformat_minor": 0,
  "metadata": {
    "colab": {
      "name": "歡迎使用 Colaboratory",
      "provenance": [],
      "collapsed_sections": []
    },
    "kernelspec": {
      "display_name": "Python 3",
      "name": "python3"
    }
  },
  "cells": [
    {
      "cell_type": "code",
      "metadata": {
        "colab": {
          "base_uri": "https://localhost:8080/"
        },
        "id": "Qu8RvgcYcGaq",
        "outputId": "46c57ec7-ae99-4171-d555-3df5e0de2dc7"
      },
      "source": [
        "!pip install pyquery"
      ],
      "execution_count": 2,
      "outputs": [
        {
          "output_type": "stream",
          "name": "stdout",
          "text": [
            "Collecting pyquery\n",
            "  Downloading pyquery-1.4.3-py3-none-any.whl (22 kB)\n",
            "Requirement already satisfied: lxml>=2.1 in /usr/local/lib/python3.7/dist-packages (from pyquery) (4.2.6)\n",
            "Collecting cssselect>0.7.9\n",
            "  Downloading cssselect-1.1.0-py2.py3-none-any.whl (16 kB)\n",
            "Installing collected packages: cssselect, pyquery\n",
            "Successfully installed cssselect-1.1.0 pyquery-1.4.3\n"
          ]
        }
      ]
    },
    {
      "cell_type": "code",
      "metadata": {
        "id": "I66pl5JzcHRs"
      },
      "source": [
        "from pyquery import PyQuery as pq\n",
        "import ssl\n",
        "\n",
        "ssl._create_default_https_context = ssl._create_unverified_context\n",
        "\n",
        "page_url = \"https://www.cnyes.com/twstock/ranking9.aspx\"\n",
        "html_doc = pq(page_url)"
      ],
      "execution_count": 3,
      "outputs": []
    },
    {
      "cell_type": "code",
      "metadata": {
        "colab": {
          "base_uri": "https://localhost:8080/"
        },
        "id": "9DS7JiybcHnu",
        "outputId": "91f3cfa9-b2dc-4f20-8c68-bdc19b9d8e9f"
      },
      "source": [
        "stock_name_selector=\"td+ td a\"\n",
        "prices_selector=\"td:nth-child(5)\"\n",
        "stock_name=[i.text for i in html_doc(stock_name_selector)]\n",
        "prices=[float(i.text) for i in html_doc(prices_selector)]\n",
        "print(stock_name)\n",
        "print(prices)"
      ],
      "execution_count": 4,
      "outputs": [
        {
          "output_type": "stream",
          "name": "stdout",
          "text": [
            "['台積電', '聯發科', '鴻海', '台塑化', '富邦金', '中華電', '國泰金', '聯電', '南亞', '台塑', '台達電', '長榮', '中鋼', '矽力-KY', '中信金', '台化', '兆豐金', '日月光投控', '萬海', '統一', '玉山金', '中租-KY', '和泰車', '南電', '台灣大', '廣達', '合庫金', '陽明', '第一金', '元大金']\n",
            "[613.0, 1085.0, 107.0, 100.5, 76.4, 115.0, 63.0, 63.1, 86.0, 107.0, 260.0, 119.0, 32.95, 5305.0, 24.75, 81.1, 34.7, 106.0, 160.5, 68.5, 27.95, 253.5, 654.0, 548.0, 100.5, 88.3, 23.9, 109.5, 24.0, 25.1]\n"
          ]
        }
      ]
    },
    {
      "cell_type": "code",
      "metadata": {
        "colab": {
          "base_uri": "https://localhost:8080/"
        },
        "id": "VbpRMJ1gcHyJ",
        "outputId": "5db2296f-0bb1-4bd2-d315-0eec5789d79c"
      },
      "source": [
        "#取股票為開曼\n",
        "ky_stock_name=[]\n",
        "ky_prices=[]\n",
        "\n",
        "for i in range(len(stock_name)):\n",
        "    if \"KY\" in stock_name[i]:\n",
        "        ky_stock_name.append(stock_name[i])\n",
        "        ky_prices.append(prices[i])\n",
        "print(ky_stock_name)\n",
        "print(ky_prices)"
      ],
      "execution_count": 5,
      "outputs": [
        {
          "output_type": "stream",
          "name": "stdout",
          "text": [
            "['矽力-KY', '中租-KY']\n",
            "[5305.0, 253.5]\n"
          ]
        }
      ]
    },
    {
      "cell_type": "code",
      "metadata": {
        "colab": {
          "base_uri": "https://localhost:8080/",
          "height": 112
        },
        "id": "dCj0Re18cH6c",
        "outputId": "7825bbf1-24cb-4df4-ae0c-ffeebeca64d0"
      },
      "source": [
        "import pandas as pd\n",
        "\n",
        "df=pd.DataFrame()\n",
        "df[\"stock_name\"]=stock_name\n",
        "df[\"prices\"]=prices\n",
        "df[df[\"stock_name\"].str.contains(\"KY\")]"
      ],
      "execution_count": 6,
      "outputs": [
        {
          "output_type": "execute_result",
          "data": {
            "text/html": [
              "<div>\n",
              "<style scoped>\n",
              "    .dataframe tbody tr th:only-of-type {\n",
              "        vertical-align: middle;\n",
              "    }\n",
              "\n",
              "    .dataframe tbody tr th {\n",
              "        vertical-align: top;\n",
              "    }\n",
              "\n",
              "    .dataframe thead th {\n",
              "        text-align: right;\n",
              "    }\n",
              "</style>\n",
              "<table border=\"1\" class=\"dataframe\">\n",
              "  <thead>\n",
              "    <tr style=\"text-align: right;\">\n",
              "      <th></th>\n",
              "      <th>stock_name</th>\n",
              "      <th>prices</th>\n",
              "    </tr>\n",
              "  </thead>\n",
              "  <tbody>\n",
              "    <tr>\n",
              "      <th>13</th>\n",
              "      <td>矽力-KY</td>\n",
              "      <td>5305.0</td>\n",
              "    </tr>\n",
              "    <tr>\n",
              "      <th>21</th>\n",
              "      <td>中租-KY</td>\n",
              "      <td>253.5</td>\n",
              "    </tr>\n",
              "  </tbody>\n",
              "</table>\n",
              "</div>"
            ],
            "text/plain": [
              "   stock_name  prices\n",
              "13      矽力-KY  5305.0\n",
              "21      中租-KY   253.5"
            ]
          },
          "metadata": {},
          "execution_count": 6
        }
      ]
    },
    {
      "cell_type": "code",
      "metadata": {
        "id": "mRRW4H7jcH-F"
      },
      "source": [
        "df.to_csv(\"stock.csv\",index=False)"
      ],
      "execution_count": 7,
      "outputs": []
    },
    {
      "cell_type": "code",
      "metadata": {
        "colab": {
          "base_uri": "https://localhost:8080/"
        },
        "id": "5RI7ZZ33cIAO",
        "outputId": "93299b4d-8f0c-4c7a-de4b-e8f3b826bfc3"
      },
      "source": [
        "!ls"
      ],
      "execution_count": 8,
      "outputs": [
        {
          "output_type": "stream",
          "name": "stdout",
          "text": [
            "sample_data  stock.csv\n"
          ]
        }
      ]
    }  
}
