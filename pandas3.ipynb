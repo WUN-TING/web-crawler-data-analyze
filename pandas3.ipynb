{
 "cells": [
  {
   "cell_type": "code",
   "execution_count": 1,
   "metadata": {},
   "outputs": [
    {
     "name": "stdout",
     "output_type": "stream",
     "text": [
      "<class 'list'>\n"
     ]
    }
   ],
   "source": [
    "import requests\n",
    "\n",
    "r = requests.get(\"https://ws.hsinchu.gov.tw/001/Upload/1/opendata/8774/349/c124dd9c-c51e-4492-9c4b-311024c2a0e3.json\")\n",
    "aqi=r.json()\n",
    "print(type(aqi))"
   ]
  },
  {
   "cell_type": "code",
   "execution_count": 2,
   "metadata": {},
   "outputs": [
    {
     "data": {
      "text/plain": [
       "111"
      ]
     },
     "execution_count": 2,
     "metadata": {},
     "output_type": "execute_result"
    }
   ],
   "source": [
    "len(aqi)"
   ]
  },
  {
   "cell_type": "code",
   "execution_count": 3,
   "metadata": {},
   "outputs": [
    {
     "name": "stdout",
     "output_type": "stream",
     "text": [
      "{'編號': '1', '農產品經營業者名稱': '簡淑惠(惠芸有機農園)', '通訊地址': '新竹縣尖石鄉秀巒村斯馬庫斯11號2樓(證書用)', '驗證機構名稱': '財團法人和諧有機農業基金會', '證書字號-轉型': '', '證書字號-有機': '1-010-100171', '舊證書字號-轉型': '', '舊證書字號-有機': 'HOA-O-171', '驗證效期': '2021/11/01', '驗證狀態': '通過', '驗證農地面積-公頃': '0.6641', '產品品項': '包葉菜，短期葉菜，根莖菜，花菜，果菜，豆菜，梨果'}\n"
     ]
    }
   ],
   "source": [
    "first_no = aqi[0]\n",
    "print(first_no)"
   ]
  },
  {
   "cell_type": "code",
   "execution_count": 4,
   "metadata": {},
   "outputs": [
    {
     "data": {
      "text/plain": [
       "dict"
      ]
     },
     "execution_count": 4,
     "metadata": {},
     "output_type": "execute_result"
    }
   ],
   "source": [
    "type(first_no)"
   ]
  },
  {
   "cell_type": "code",
   "execution_count": 7,
   "metadata": {},
   "outputs": [
    {
     "name": "stdout",
     "output_type": "stream",
     "text": [
      "編號 : 1\n",
      "農產品經營業者名稱 : 簡淑惠(惠芸有機農園)\n",
      "通訊地址 : 新竹縣尖石鄉秀巒村斯馬庫斯11號2樓(證書用)\n",
      "驗證機構名稱 : 財團法人和諧有機農業基金會\n",
      "證書字號-轉型 : \n",
      "證書字號-有機 : 1-010-100171\n",
      "舊證書字號-轉型 : \n",
      "舊證書字號-有機 : HOA-O-171\n",
      "驗證效期 : 2021/11/01\n",
      "驗證狀態 : 通過\n",
      "驗證農地面積-公頃 : 0.6641\n",
      "產品品項 : 包葉菜，短期葉菜，根莖菜，花菜，果菜，豆菜，梨果\n"
     ]
    }
   ],
   "source": [
    "for k,v in first_no.items():\n",
    "    print(k, \":\" , v)"
   ]
  },
  {
   "cell_type": "code",
   "execution_count": null,
   "metadata": {},
   "outputs": [],
   "source": []
  }
 ],
 "metadata": {
  "kernelspec": {
   "display_name": "selenium",
   "language": "python",
   "name": "selenium"
  },
  "language_info": {
   "codemirror_mode": {
    "name": "ipython",
    "version": 3
   },
   "file_extension": ".py",
   "mimetype": "text/x-python",
   "name": "python",
   "nbconvert_exporter": "python",
   "pygments_lexer": "ipython3",
   "version": "3.10.0"
  }
 },
 "nbformat": 4,
 "nbformat_minor": 4
}
