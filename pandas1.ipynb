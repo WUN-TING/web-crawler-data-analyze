{
 "cells": [
  {
   "cell_type": "code",
   "execution_count": 1,
   "metadata": {},
   "outputs": [
    {
     "name": "stdout",
     "output_type": "stream",
     "text": [
      "Requirement already satisfied: pyquery in c:\\users\\simpl\\anaconda3\\lib\\site-packages (1.4.3)\n",
      "Requirement already satisfied: cssselect>0.7.9 in c:\\users\\simpl\\anaconda3\\lib\\site-packages (from pyquery) (1.1.0)\n",
      "Requirement already satisfied: lxml>=2.1 in c:\\users\\simpl\\anaconda3\\lib\\site-packages (from pyquery) (4.5.2)\n"
     ]
    }
   ],
   "source": [
    "!pip install pyquery"
   ]
  },
  {
   "cell_type": "code",
   "execution_count": 3,
   "metadata": {},
   "outputs": [],
   "source": [
    "from pyquery import PyQuery as pq\n",
    "import ssl\n",
    "\n",
    "ssl._create_default_https_context = ssl._create_unverified_context\n",
    "\n",
    "page_url = \"https://www.cnyes.com/twstock/ranking9.aspx\"\n",
    "html_doc = pq(page_url)"
   ]
  },
  {
   "cell_type": "code",
   "execution_count": 4,
   "metadata": {},
   "outputs": [
    {
     "name": "stdout",
     "output_type": "stream",
     "text": [
      "['台積電', '聯發科', '鴻海', '台塑化', '富邦金', '中華電', '國泰金', '聯電', '南亞', '台塑', '台達電', '長榮', '中鋼', '矽力-KY', '中信金', '台化', '兆豐金', '日月光投控', '萬海', '統一', '玉山金', '中租-KY', '和泰車', '南電', '台灣大', '廣達', '合庫金', '陽明', '第一金', '元大金']\n",
      "[613.0, 1085.0, 107.0, 100.5, 76.4, 115.0, 63.0, 63.1, 86.0, 107.0, 260.0, 119.0, 32.95, 5305.0, 24.75, 81.1, 34.7, 106.0, 160.5, 68.5, 27.95, 253.5, 654.0, 548.0, 100.5, 88.3, 23.9, 109.5, 24.0, 25.1]\n"
     ]
    }
   ],
   "source": [
    "stock_name_selector=\"td+ td a\"\n",
    "prices_selector=\"td:nth-child(5)\"\n",
    "stock_name=[i.text for i in html_doc(stock_name_selector)]\n",
    "prices=[float(i.text) for i in html_doc(prices_selector)]\n",
    "print(stock_name)\n",
    "print(prices)"
   ]
  },
  {
   "cell_type": "code",
   "execution_count": 5,
   "metadata": {},
   "outputs": [
    {
     "name": "stdout",
     "output_type": "stream",
     "text": [
      "['矽力-KY', '中租-KY']\n",
      "[5305.0, 253.5]\n"
     ]
    }
   ],
   "source": [
    "#取股票為開曼\n",
    "ky_stock_name=[]\n",
    "ky_prices=[]\n",
    "\n",
    "for i in range(len(stock_name)):\n",
    "    if \"KY\" in stock_name[i]:\n",
    "        ky_stock_name.append(stock_name[i])\n",
    "        ky_prices.append(prices[i])\n",
    "print(ky_stock_name)\n",
    "print(ky_prices)"
   ]
  },
  {
   "cell_type": "code",
   "execution_count": 6,
   "metadata": {},
   "outputs": [
    {
     "data": {
      "text/html": [
       "<div>\n",
       "<style scoped>\n",
       "    .dataframe tbody tr th:only-of-type {\n",
       "        vertical-align: middle;\n",
       "    }\n",
       "\n",
       "    .dataframe tbody tr th {\n",
       "        vertical-align: top;\n",
       "    }\n",
       "\n",
       "    .dataframe thead th {\n",
       "        text-align: right;\n",
       "    }\n",
       "</style>\n",
       "<table border=\"1\" class=\"dataframe\">\n",
       "  <thead>\n",
       "    <tr style=\"text-align: right;\">\n",
       "      <th></th>\n",
       "      <th>stock_name</th>\n",
       "      <th>prices</th>\n",
       "    </tr>\n",
       "  </thead>\n",
       "  <tbody>\n",
       "    <tr>\n",
       "      <th>13</th>\n",
       "      <td>矽力-KY</td>\n",
       "      <td>5305.0</td>\n",
       "    </tr>\n",
       "    <tr>\n",
       "      <th>21</th>\n",
       "      <td>中租-KY</td>\n",
       "      <td>253.5</td>\n",
       "    </tr>\n",
       "  </tbody>\n",
       "</table>\n",
       "</div>"
      ],
      "text/plain": [
       "   stock_name  prices\n",
       "13      矽力-KY  5305.0\n",
       "21      中租-KY   253.5"
      ]
     },
     "execution_count": 6,
     "metadata": {},
     "output_type": "execute_result"
    }
   ],
   "source": [
    "import pandas as pd\n",
    "\n",
    "df=pd.DataFrame()\n",
    "df[\"stock_name\"]=stock_name\n",
    "df[\"prices\"]=prices\n",
    "df[df[\"stock_name\"].str.contains(\"KY\")]"
   ]
  }
 ],
 "metadata": {
  "kernelspec": {
   "display_name": "selenium",
   "language": "python",
   "name": "selenium"
  },
  "language_info": {
   "codemirror_mode": {
    "name": "ipython",
    "version": 3
   },
   "file_extension": ".py",
   "mimetype": "text/x-python",
   "name": "python",
   "nbconvert_exporter": "python",
   "pygments_lexer": "ipython3",
   "version": "3.10.0"
  }
 },
 "nbformat": 4,
 "nbformat_minor": 4
}
